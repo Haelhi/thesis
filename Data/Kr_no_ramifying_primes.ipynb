{
 "cells": [
  {
   "cell_type": "code",
   "execution_count": 16,
   "metadata": {},
   "outputs": [
    {
     "name": "stdout",
     "output_type": "stream",
     "text": [
      "True\n"
     ]
    }
   ],
   "source": [
    "# List of fields Kr such that t_Kr = 0, constructed from Krplus with discriminant < 10^8\n",
    "# Elements of Kr_list: [polynomial of Kr, dKr/dKrplus^2, hKrstar]\n",
    "\n",
    "Kr_list = \n",
    "\n",
    "# Since we used imaginary quadratics with class number 1,2 or 4,\n",
    "# hKrstar can only be a power of 2 under the assumption that K has CM class number one\n",
    "# (since hKstar is a power of 2 as well and we have identity 2hKrstar*QK = hk*hKstar*QKr)\n",
    "\n",
    "# Elements with hKrstar = 2^n\n",
    "Kr_list_poweroftwo = []\n",
    "for k in Kr_list:\n",
    "    if log(k[2],2).is_integer == True:\n",
    "        Kr_list_poweroftwo.append(k)\n",
    "\n",
    "# Elements with hKrstar = 1\n",
    "Kr_list_one = [[x^8 - 4*x^7 - 4*x^6 + 32*x^5 - 8*x^4 - 98*x^3 + 194*x^2 - 161*x + 97, 1, 1],\n",
    "                       [x^8 + 4*x^7 - 2*x^6 - 16*x^5 + 67*x^4 + 112*x^3 - 50*x^2 - 164*x + 1041, 1, 1],\n",
    "                       [x^8 - 10*x^6 + 22*x^5 + 98*x^4 - 352*x^3 + 966*x^2 - 1133*x + 1665, 1, 1]]\n",
    "\n",
    "# Kr_list_one = []\n",
    "# for Kr in Kr_list:\n",
    "#     if Kr[2] == 1:\n",
    "#         Kr_list_hKrstar_one.append(Kr)\n",
    "# print(Kr_list_hKrstar_one)"
   ]
  },
  {
   "cell_type": "code",
   "execution_count": null,
   "metadata": {},
   "outputs": [],
   "source": []
  }
 ],
 "metadata": {
  "kernelspec": {
   "display_name": "SageMath 9.2",
   "language": "sage",
   "name": "sagemath"
  },
  "language_info": {
   "codemirror_mode": {
    "name": "ipython",
    "version": 3
   },
   "file_extension": ".py",
   "mimetype": "text/x-python",
   "name": "python",
   "nbconvert_exporter": "python",
   "pygments_lexer": "ipython3",
   "version": "3.8.5"
  }
 },
 "nbformat": 4,
 "nbformat_minor": 4
}
